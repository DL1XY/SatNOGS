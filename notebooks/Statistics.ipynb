{
 "cells": [
  {
   "cell_type": "markdown",
   "id": "de498985",
   "metadata": {},
   "source": [
    "## Read credentials from secret file"
   ]
  },
  {
   "cell_type": "code",
   "execution_count": 1,
   "id": "a612c1b5",
   "metadata": {},
   "outputs": [
    {
     "name": "stdout",
     "output_type": "stream",
     "text": [
      "['abc', 'cdf']\n"
     ]
    }
   ],
   "source": [
    "with open(\"credentials.secret\") as file:\n",
    "    lines = [line.rstrip() for line in file]\n",
    "\n",
    "SATNOGS_DB_TOKEN = lines[0]\n",
    "SATNOGS_API_TOKEN = lines[1]\n"
   ]
  },
  {
   "cell_type": "code",
   "execution_count": null,
   "id": "a30cf29c",
   "metadata": {},
   "outputs": [],
   "source": []
  }
 ],
 "metadata": {
  "kernelspec": {
   "display_name": "Python 3 (ipykernel)",
   "language": "python",
   "name": "python3"
  },
  "language_info": {
   "codemirror_mode": {
    "name": "ipython",
    "version": 3
   },
   "file_extension": ".py",
   "mimetype": "text/x-python",
   "name": "python",
   "nbconvert_exporter": "python",
   "pygments_lexer": "ipython3",
   "version": "3.9.16"
  }
 },
 "nbformat": 4,
 "nbformat_minor": 5
}
