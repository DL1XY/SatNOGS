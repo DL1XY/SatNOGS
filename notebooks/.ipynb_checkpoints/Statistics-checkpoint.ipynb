{
 "cells": [
  {
   "cell_type": "markdown",
   "id": "91ff499e",
   "metadata": {},
   "source": [
    "# Having fun with data"
   ]
  },
  {
   "cell_type": "markdown",
   "id": "990490ba",
   "metadata": {},
   "source": [
    "## Read credentials from secret file and define URLs"
   ]
  },
  {
   "cell_type": "code",
   "execution_count": 1,
   "id": "a08a245d",
   "metadata": {},
   "outputs": [],
   "source": [
    "#Read tokens\n",
    "with open(\"credentials.secret\") as file:\n",
    "    lines = [line.rstrip() for line in file]\n",
    "\n",
    "SATNOGS_DB_TOKEN = lines[0]\n",
    "SATNOGS_NETWORK_TOKEN = lines[1]\n",
    "\n",
    "# Set URLs\n",
    "SATNOGS_DB_URL = 'https://db.satnogs.org'\n",
    "SATNOGS_NETWORK_URL = 'https://network.satnogs.org'"
   ]
  },
  {
   "cell_type": "markdown",
   "id": "999452eb",
   "metadata": {},
   "source": [
    "## How many active satellites are in the Database ?"
   ]
  },
  {
   "cell_type": "code",
   "execution_count": 6,
   "id": "888d3d86",
   "metadata": {},
   "outputs": [
    {
     "name": "stdout",
     "output_type": "stream",
     "text": [
      "986\n"
     ]
    }
   ],
   "source": [
    "import requests\n",
    "path = SATNOGS_DB_URL+\"/api/satellites/?format=json&status=alive\"\n",
    "response = requests.get(path, headers={'Token':SATNOGS_DB_TOKEN})\n",
    "data = response.json()\n",
    "print (len(data))"
   ]
  },
  {
   "cell_type": "markdown",
   "id": "38185249",
   "metadata": {},
   "source": [
    "## Which satellite has the most observations in 2022 ?"
   ]
  },
  {
   "cell_type": "code",
   "execution_count": null,
   "id": "38ef3670",
   "metadata": {},
   "outputs": [],
   "source": []
  },
  {
   "cell_type": "markdown",
   "id": "88176dde",
   "metadata": {},
   "source": [
    "## Which transmitter mode was observed most in 2022 ?"
   ]
  },
  {
   "cell_type": "code",
   "execution_count": null,
   "id": "4e3b3413",
   "metadata": {},
   "outputs": [],
   "source": []
  }
 ],
 "metadata": {
  "kernelspec": {
   "display_name": "Python 3 (ipykernel)",
   "language": "python",
   "name": "python3"
  },
  "language_info": {
   "codemirror_mode": {
    "name": "ipython",
    "version": 3
   },
   "file_extension": ".py",
   "mimetype": "text/x-python",
   "name": "python",
   "nbconvert_exporter": "python",
   "pygments_lexer": "ipython3",
   "version": "3.10.9"
  }
 },
 "nbformat": 4,
 "nbformat_minor": 5
}
